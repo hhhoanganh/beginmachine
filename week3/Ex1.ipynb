{
 "cells": [
  {
   "cell_type": "code",
   "execution_count": 1,
   "metadata": {},
   "outputs": [],
   "source": [
    "import numpy as np\n",
    "\n",
    "def sigmoid(z):\n",
    "    return 1 / (1 + np.exp(-z))\n",
    "\n",
    "def logistic_sigmoid_regression(Xbar, y, w_init, eta, tol = 1e-4, max_count = 10000):\n",
    "    w = [w_init]\n",
    "    it = 0\n",
    "    N = Xbar.shape[0]\n",
    "    d = Xbar.shape[1]\n",
    "    count = 0\n",
    "    check_w_after = 20\n",
    "    while count < max_count:\n",
    "        # Mix data\n",
    "        mix_id = np.random.permutation(N)\n",
    "        for i in mix_id:\n",
    "            xi = Xbar[i]\n",
    "            yi = y[i]\n",
    "            zi = sigmoid(np.dot(xi, w[-1]))\n",
    "            w_new = w[-1] + eta*(yi - zi)*xi\n",
    "            count += 1\n",
    "            # stopping criteria\n",
    "            if count%check_w_after == 0:\n",
    "                if np.linalg.norm(w_new - w[-check_w_after]) < tol:\n",
    "                    return w\n",
    "            w.append(w_new)\n",
    "    return w"
   ]
  },
  {
   "cell_type": "code",
   "execution_count": 2,
   "metadata": {},
   "outputs": [
    {
     "name": "stderr",
     "output_type": "stream",
     "text": [
      "C:\\Users\\chuho\\AppData\\Local\\Temp\\ipykernel_4312\\662784148.py:1: DeprecationWarning: \n",
      "Pyarrow will become a required dependency of pandas in the next major release of pandas (pandas 3.0),\n",
      "(to allow more performant data types, such as the Arrow string type, and better interoperability with other libraries)\n",
      "but was not found to be installed on your system.\n",
      "If this would cause problems for you,\n",
      "please provide us feedback at https://github.com/pandas-dev/pandas/issues/54466\n",
      "        \n",
      "  from pandas import read_csv\n"
     ]
    }
   ],
   "source": [
    "from pandas import read_csv\n",
    "\n",
    "# Đọc dữ liệu từ file CSV\n",
    "data = read_csv(\"Admission_Predict.csv\")\n",
    "\n",
    "# Lấy dữ liệu vào các biến\n",
    "gre = data['GRE Score'].tolist()\n",
    "tfl = data['TOEFL Score'].tolist()\n",
    "unirt = data['University Rating'].tolist()\n",
    "sop = data['SOP'].tolist()\n",
    "lor1 = data['LOR '].tolist()\n",
    "cgpa1 = data['CGPA'].tolist()\n",
    "research_exp = data['Research'].tolist()\n",
    "prob_Admit = data['Chance of Admit'].tolist()\n",
    "\n",
    "#i, ii\n",
    "# Chọn 350 dòng đầu làm dữ liệu training, phần còn lại là test\n",
    "X_train = np.array([gre[:350], tfl[:350], unirt[:350], sop[:350], lor1[:350], cgpa1[:350], research_exp[:350]]).T\n",
    "X_test = np.array([gre[350:], tfl[350:], unirt[350:], sop[350:], lor1[350:], cgpa1[350:], research_exp[350:]]).T\n",
    "#iii\n",
    "# Tạo cột X0 ≡ 1\n",
    "Xbar_train = np.concatenate((np.ones((X_train.shape[0], 1)), X_train), axis=1)\n",
    "Xbar_test = np.concatenate((np.ones((X_test.shape[0], 1)), X_test), axis=1)\n",
    "\n",
    "# Định nghĩa nhãn cho training data và test data\n",
    "Y_train = np.array([1 if x >= 0.75 else 0 for x in prob_Admit[:350]])\n",
    "Y_test = np.array([1 if x >= 0.75 else 0 for x in prob_Admit[350:]])"
   ]
  },
  {
   "cell_type": "code",
   "execution_count": 3,
   "metadata": {},
   "outputs": [
    {
     "name": "stdout",
     "output_type": "stream",
     "text": [
      "Các hệ số của mô hình:\n",
      "[ -6.62244844 -90.81975049 211.22934246 143.13331619 111.33687068\n",
      "  93.42590089  45.86140068  54.78215742]\n"
     ]
    },
    {
     "name": "stderr",
     "output_type": "stream",
     "text": [
      "C:\\Users\\chuho\\AppData\\Local\\Temp\\ipykernel_4312\\736489293.py:4: RuntimeWarning: overflow encountered in exp\n",
      "  return 1 / (1 + np.exp(-z))\n"
     ]
    }
   ],
   "source": [
    "# Định nghĩa các tham số ban đầu\n",
    "w_init = np.random.randn(Xbar_train.shape[1])\n",
    "eta = 0.05\n",
    "#iv\n",
    "# Thực hiện hồi quy logistic\n",
    "w = logistic_sigmoid_regression(Xbar_train, Y_train, w_init, eta)\n",
    "#v\n",
    "# In các hệ số kết quả ra màn hình\n",
    "print(\"Các hệ số của mô hình:\")\n",
    "print(w[-1])"
   ]
  },
  {
   "cell_type": "code",
   "execution_count": 4,
   "metadata": {},
   "outputs": [
    {
     "name": "stdout",
     "output_type": "stream",
     "text": [
      "Accuracy: 0.56\n",
      "Precision: nan\n",
      "Recall: 0.0\n"
     ]
    },
    {
     "name": "stderr",
     "output_type": "stream",
     "text": [
      "C:\\Users\\chuho\\AppData\\Local\\Temp\\ipykernel_4312\\736489293.py:4: RuntimeWarning: overflow encountered in exp\n",
      "  return 1 / (1 + np.exp(-z))\n",
      "C:\\Users\\chuho\\AppData\\Local\\Temp\\ipykernel_4312\\1475241169.py:20: RuntimeWarning: invalid value encountered in scalar divide\n",
      "  precision = np.sum((Y_pred_labels == 1) & (Y_test == 1)) / np.sum(Y_pred_labels == 1)\n"
     ]
    }
   ],
   "source": [
    "#vi\n",
    "def predict(X, w):\n",
    "    \"\"\"\n",
    "    Predict label for each sample in X\n",
    "    \"\"\"\n",
    "    N = X.shape[0]\n",
    "    preds = []\n",
    "    for i in range(N):\n",
    "        pred = sigmoid(np.dot(X[i], w))\n",
    "        preds.append(pred)\n",
    "    return preds\n",
    "\n",
    "# Dự đoán cho dữ liệu test\n",
    "Y_pred = predict(Xbar_test, w[-1])\n",
    "\n",
    "# Chuyển đổi dự đoán thành nhãn 0 hoặc 1 dựa trên ngưỡng 0.5\n",
    "Y_pred_labels = np.array([1 if y >= 0.5 else 0 for y in Y_pred])\n",
    "\n",
    "# Đối chiếu kết quả với nhãn thực tế\n",
    "accuracy = np.mean(Y_pred_labels == Y_test)\n",
    "precision = np.sum((Y_pred_labels == 1) & (Y_test == 1)) / np.sum(Y_pred_labels == 1)\n",
    "recall = np.sum((Y_pred_labels == 1) & (Y_test == 1)) / np.sum(Y_test == 1)\n",
    "\n",
    "print(\"Accuracy:\", accuracy)\n",
    "print(\"Precision:\", precision)\n",
    "print(\"Recall:\", recall)"
   ]
  },
  {
   "cell_type": "code",
   "execution_count": 5,
   "metadata": {},
   "outputs": [
    {
     "name": "stdout",
     "output_type": "stream",
     "text": [
      "Mean Squared Error: 0.004641678440367148\n"
     ]
    }
   ],
   "source": [
    "#b\n",
    "# Sử dụng thư viện scikit-learn để hồi quy tuyến tính\n",
    "from sklearn.linear_model import LinearRegression\n",
    "\n",
    "# Tạo mô hình hồi quy tuyến tính\n",
    "lin_reg = LinearRegression()\n",
    "\n",
    "# Huấn luyện mô hình trên tập training\n",
    "lin_reg.fit(X_train, prob_Admit[:350])\n",
    "\n",
    "# Dự đoán kết quả cho tập test\n",
    "Y_pred_linear = lin_reg.predict(X_test)\n",
    "\n",
    "# Tính trung bình bình phương sai số\n",
    "mse = np.mean((Y_pred_linear - prob_Admit[350:]) ** 2)\n",
    "print(\"Mean Squared Error:\", mse)"
   ]
  },
  {
   "cell_type": "code",
   "execution_count": 6,
   "metadata": {},
   "outputs": [
    {
     "name": "stdout",
     "output_type": "stream",
     "text": [
      "Naive Bayes Accuracy: 0.9\n",
      "Naive Bayes Precision: 0.9473684210526315\n",
      "Naive Bayes Recall: 0.8181818181818182\n"
     ]
    }
   ],
   "source": [
    "#c\n",
    "# Sử dụng thư viện scikit-learn để Naive Bayes\n",
    "from sklearn.naive_bayes import GaussianNB\n",
    "from sklearn.metrics import accuracy_score, precision_score, recall_score\n",
    "\n",
    "# Tạo mô hình Naive Bayes\n",
    "nb_model = GaussianNB()\n",
    "\n",
    "# Huấn luyện mô hình trên tập training\n",
    "nb_model.fit(X_train, Y_train)\n",
    "\n",
    "# Dự đoán kết quả cho tập test\n",
    "Y_pred_nb = nb_model.predict(X_test)\n",
    "\n",
    "# Tính độ chính xác, precision và recall\n",
    "accuracy_nb = accuracy_score(Y_test, Y_pred_nb)\n",
    "precision_nb = precision_score(Y_test, Y_pred_nb)\n",
    "recall_nb = recall_score(Y_test, Y_pred_nb)\n",
    "\n",
    "print(\"Naive Bayes Accuracy:\", accuracy_nb)\n",
    "print(\"Naive Bayes Precision:\", precision_nb)\n",
    "print(\"Naive Bayes Recall:\", recall_nb)"
   ]
  }
 ],
 "metadata": {
  "kernelspec": {
   "display_name": "Python 3",
   "language": "python",
   "name": "python3"
  },
  "language_info": {
   "codemirror_mode": {
    "name": "ipython",
    "version": 3
   },
   "file_extension": ".py",
   "mimetype": "text/x-python",
   "name": "python",
   "nbconvert_exporter": "python",
   "pygments_lexer": "ipython3",
   "version": "3.9.6"
  }
 },
 "nbformat": 4,
 "nbformat_minor": 2
}
