{
 "cells": [
  {
   "cell_type": "code",
   "execution_count": 1,
   "metadata": {},
   "outputs": [
    {
     "name": "stderr",
     "output_type": "stream",
     "text": [
      "C:\\Users\\chuho\\AppData\\Local\\Temp\\ipykernel_11640\\1350260422.py:2: DeprecationWarning: \n",
      "Pyarrow will become a required dependency of pandas in the next major release of pandas (pandas 3.0),\n",
      "(to allow more performant data types, such as the Arrow string type, and better interoperability with other libraries)\n",
      "but was not found to be installed on your system.\n",
      "If this would cause problems for you,\n",
      "please provide us feedback at https://github.com/pandas-dev/pandas/issues/54466\n",
      "        \n",
      "  import pandas as pd\n"
     ]
    }
   ],
   "source": [
    "import numpy as np\n",
    "import pandas as pd\n",
    "import matplotlib.pyplot as plt\n",
    "from sklearn.linear_model import LinearRegression\n",
    "from sklearn.model_selection import train_test_split\n",
    "from sklearn.metrics import mean_squared_error,mean_absolute_error"
   ]
  },
  {
   "cell_type": "code",
   "execution_count": 4,
   "metadata": {},
   "outputs": [],
   "source": [
    "data = pd.read_csv(\"E:\\\\machine\\\\machinebegin\\\\beginmachine\\\\week2\\\\vidu3_lin_reg.txt\", delimiter = '\\s+')"
   ]
  },
  {
   "cell_type": "code",
   "execution_count": 8,
   "metadata": {},
   "outputs": [
    {
     "name": "stdout",
     "output_type": "stream",
     "text": [
      "   ID  TUOI  BMI   HA  GLUCOSE  CHOLESTEROL  BEDAYNTM\n",
      "0   1    56   21  160     14.0         6.00      1.95\n",
      "1   2    76   18  150     12.0         4.97      1.33\n",
      "2   3    63   16  160      4.4         6.39      0.83\n",
      "3   4    78   20  100      4.0         7.00      2.00\n",
      "4   5    87   20  110      4.6         4.10      1.30\n",
      "Missing values:\n",
      "ID             0\n",
      "TUOI           0\n",
      "BMI            0\n",
      "HA             0\n",
      "GLUCOSE        0\n",
      "CHOLESTEROL    0\n",
      "BEDAYNTM       0\n",
      "dtype: int64\n"
     ]
    }
   ],
   "source": [
    "# Kiểm tra đầu dữ liệu\n",
    "print(data.head())\n",
    "\n",
    "# Kiểm tra dữ liệu trống\n",
    "print(\"Missing values:\")\n",
    "print(data.isnull().sum())\n",
    "\n",
    "# Xóa dữ liệu mất\n",
    "data.dropna(inplace=True)\n"
   ]
  },
  {
   "cell_type": "code",
   "execution_count": 10,
   "metadata": {},
   "outputs": [
    {
     "name": "stdout",
     "output_type": "stream",
     "text": [
      "Coeff: \n",
      "Beta_1: 0.008213020778446198\n",
      "Beta_2: 0.00017062959708869473\n",
      "Beta_3: 0.001919912014707004\n",
      "Beta_4: 0.006449309264410844\n",
      "Beta_5: 0.03367010547570501\n",
      "Beta_0: 0.038628429709093526\n"
     ]
    }
   ],
   "source": [
    "# Xử lý và chia tập dữ liệu\n",
    "x = data[['TUOI', 'BMI', 'HA', 'GLUCOSE', 'CHOLESTEROL']].values\n",
    "y = data['BEDAYNTM'].values\n",
    "x_train, x_test, y_train, y_test = train_test_split(x, y, test_size= 0.2, random_state = 42)\n",
    "\n",
    "# Xây dựng mô hình hồi quy tuyến tính\n",
    "model = LinearRegression()\n",
    "model.fit(x_train, y_train)\n",
    "\n",
    "# Lấy hệ số hồi quy\n",
    "print(\"Coeff: \")\n",
    "for i, coef in enumerate(model.coef_):\n",
    "    print(f\"Beta_{i+1}: {coef}\")\n",
    "print(f\"Beta_0: {model.intercept_}\")"
   ]
  },
  {
   "cell_type": "code",
   "execution_count": 11,
   "metadata": {},
   "outputs": [
    {
     "name": "stdout",
     "output_type": "stream",
     "text": [
      "\n",
      "Mean Squared Error on Testing Data: 0.17851473088966158\n",
      "Mean Absolute Error on Testing Data: 0.24253680178241108\n"
     ]
    }
   ],
   "source": [
    "# Đánh giá mô hình\n",
    "y_pred = model.predict(x_test)\n",
    "mse = mean_squared_error(y_test, y_pred)\n",
    "mae = mean_absolute_error(y_test, y_pred)\n",
    "print(f\"\\nMean Squared Error on Testing Data: {mse}\")\n",
    "print(f\"Mean Absolute Error on Testing Data: {mae}\")"
   ]
  }
 ],
 "metadata": {
  "kernelspec": {
   "display_name": "Python 3",
   "language": "python",
   "name": "python3"
  },
  "language_info": {
   "codemirror_mode": {
    "name": "ipython",
    "version": 3
   },
   "file_extension": ".py",
   "mimetype": "text/x-python",
   "name": "python",
   "nbconvert_exporter": "python",
   "pygments_lexer": "ipython3",
   "version": "3.9.6"
  }
 },
 "nbformat": 4,
 "nbformat_minor": 2
}
